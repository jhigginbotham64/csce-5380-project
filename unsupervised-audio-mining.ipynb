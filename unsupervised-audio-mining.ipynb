{
 "cells": [
  {
   "cell_type": "markdown",
   "id": "casual-sharp",
   "metadata": {},
   "source": [
    "Initial questions:\n",
    "\n",
    "- How can I load this data?\n",
    "- What other pre-processing does it require?\n",
    "    - Background noise estimation\n",
    "- What networks do I need to build?\n",
    "    - Their code literally gives you all the layers and hyperparameters\n",
    "- How do I train them?\n",
    "    - DNN\n",
    "        - Chunks\n",
    "        - Batches\n",
    "        - Multiple epochs\n",
    "        - Binary cross-entropy objective function\n",
    "        - Stochastic Gradient Descent optimization\n",
    "    - DAE\n",
    "        - Multiple-frame MBK to predict center (context)\n",
    "        - Batches\n",
    "        - Multiple epochs\n",
    "        - Mean squared error objective function\n",
    "        - Stochastic Gradient Descent optimization\n",
    "- How do I evaluate them?\n",
    "    - Equal error rate, average across 5 folds\n",
    "    - Precision\n",
    "    - Recall\n",
    "    - F1\n",
    "\n",
    "Notes:\n",
    "- Training and network hyperparameters are given\n",
    "- Will use the given training and development folds, and 16kHz rather than 48kHz\n",
    "- Will have to reconstruct their input pre-processing manually based on the inputs to the different networks, because it is \"done offstage\" in this repo, something something MFCCs and MBKs and background noise (check out their equation, and see if the second paper does something similar), fortunately they give you a lot of the different specs but you may just need to note in your report that you're kinda guessing, don't have to match their performance either\n",
    "\n"
   ]
  },
  {
   "cell_type": "markdown",
   "id": "62a2dc69",
   "metadata": {},
   "source": [
    "## Running this Notebook\n",
    "\n",
    "This report is formatted as a Jupyter notebook with a .ipynb file extension.\n",
    "Most notebooks are written in Python, but this one is written in Julia. If you\n",
    "are already familiar with Julia and know how to use it with Jupyter, or don't \n",
    "mind figuring it out for yourself, then feel free to run this notebook in \n",
    "whatever way works best for you.\n",
    "\n",
    "But if you are new to any or all of Julia, Jupyter, or Julia in Jupyter, then\n",
    "I have provided some scripts and instructions to get you started. They were\n",
    "written and tested on Ubuntu 18.04. If you do not have access to a Linux\n",
    "workstation then the basic steps will all be the same on Windows and Mac,\n",
    "however if you want to use the provided bash scripts directly then you may \n",
    "need to do some additional setup."
   ]
  },
  {
   "cell_type": "markdown",
   "id": "66b0a78e",
   "metadata": {},
   "source": [
    "### The Project Folder\n",
    "\n",
    "Julia projects are defined by a file called `Project.toml`, which defines all of its package dependencies.\n",
    "\n",
    "Create an empty directory and `cd` into it. Once inside, and copy the following into a file called `Project.toml`:\n",
    "\n",
    "```toml\n",
    "# Project.toml\n",
    "\n",
    "[deps]\n",
    "CSV = \"336ed68f-0bac-5ca0-87d4-7b16caf5d00b\"\n",
    "Conda = \"8f4d0f93-b110-5947-807f-2305c1781a2d\"\n",
    "DataFrames = \"a93c6f00-e57d-5684-b7b6-d8193f3e46c0\"\n",
    "DataSets = \"c9661210-8a83-48f0-b833-72e62abce419\"\n",
    "DelimitedFiles = \"8bb1440f-4735-579b-a4ab-409b98df4dab\"\n",
    "Flux = \"587475ba-b771-5e3f-ad9e-33799f191a9c\"\n",
    "IJulia = \"7073ff75-c697-5162-941a-fcdaad2a7d2a\"\n",
    "OhMyREPL = \"5fb14364-9ced-5910-84b2-373655c76a03\"\n",
    "Plots = \"91a5bcdd-55d7-5caf-9e0b-520d859cae80\"\n",
    "StatsPlots = \"f3b207a7-027a-5e70-b257-86293d7955fd\"\n",
    "Tar = \"a4e569a6-e804-4fa4-b0f3-eef7a1d5b13e\"\n",
    "WAV = \"8149f6b0-98f6-5db9-b78f-408fbbb8ef88\"\n",
    "```"
   ]
  },
  {
   "cell_type": "markdown",
   "id": "b3a09fbe",
   "metadata": {},
   "source": [
    "### Getting the Project Requirements\n",
    "\n",
    "The following bash script downloads Julia version 1.6.1, installs the dependencies defined in `Project.toml`, and does a clean installation of both Jupyter (local to Julia, so it should not interfere with your existing Jupyter installation if you have one) and the kernel that allows it run Julia notebooks in addition to Python ones.\n",
    "\n",
    "The setup process involves opening a new Jupyter notebook from Julia and then closes it. This means closing Jupyter itself, so it is advisable to close any running Jupyter processes beforehand.\n",
    "\n",
    "Finally, it downloads the `chime_home` dataset into the project directory.\n",
    "\n",
    "If starting from scratch, this entire script usually takes 30 minutes to an hour to run to completion. The longest parts are setting up Jupyter and downloading the `chime_home` dataset, which is about 4 GB and has to be decompressed. Given that, as well as the system requirements for Julia and Jupyter, make sure you have enough space on your hard drive before getting started.\n",
    "\n",
    "```bash\n",
    "# install.sh\n",
    "\n",
    "# install julia\n",
    "wget -c https://julialang-s3.julialang.org/bin/linux/x64/1.6/julia-1.6.1-linux-x86_64.tar.gz -O - | tar xz\n",
    "\n",
    "# get packages and set up IJulia\n",
    "echo -e \"\\n\" | ./julia-1.6.1/bin/julia --project=@. -e \"using Pkg; Pkg.update(); using IJulia; notebook(detached=true)\"\n",
    "\n",
    "# kill notebook, not reachable by default so we need to start properly later anyway\n",
    "killall -9 jupyter-notebook\n",
    "# if the killall command is not available, you may need to install it:\n",
    "# sudo apt install psmisc\n",
    "\n",
    "# install chime_home dataset\n",
    "wget -c https://archive.org/download/chime-home/chime_home.tar.gz -O - | tar xz\n",
    "```"
   ]
  },
  {
   "cell_type": "markdown",
   "id": "99698324",
   "metadata": {},
   "source": [
    "### Running the Code\n",
    "\n",
    "Once Julia has installed Jupyter, you can run Julia notebooks by invoking Jupyter from within your Julia installation. The following script does this, adding the `--no-browser` flag and backgrounding the process.\n",
    "\n",
    "```bash\n",
    "# run.sh\n",
    "\n",
    "# runs miniconda jupyter notebook on default port.\n",
    "# usually this is 8888, but if you're connecting\n",
    "# remotely then edit this command to make sure it\n",
    "# runs on the same port as your SSH tunnel. also,\n",
    "# if you're not able to connect then make sure you\n",
    "# get the right URL token from stdout.\n",
    "~/.julia/conda/3/bin/jupyter notebook --no-browser &\n",
    "```\n",
    "\n",
    "The `--no-browser` flag is helpful if you want to run Jupyter remotely and connect to it from the web browser on your local workstation. The comments in `run.sh` mention SSH tunnels, because I have found them to be the easiest way to get things running and connected. This requires creating an SSH tunnel to the same Linux server you are running Jupyter on, as the same user you want to run Jupyter as, before invoking `run.sh`. Once that's done, you should be able to connect to your remote Jupyter process in your local web browser using whatever localhost port you chose when creating the tunnel (I've been using 8888, Jupyter's default port). See [here](https://docs.anaconda.com/anaconda/user-guide/tasks/remote-jupyter-notebook/) for more help with Jupyter and SSH tunnels.\n",
    "\n",
    "Once you finally connect to Jupyter, navigate to wherever you saved this notebook and click on it to open it (it should be called `unsupervised-audio-mining.ipynb` by default). From that point on it's just a Jupyter notebook running Julia, so refer to the [Julia](https://docs.julialang.org/en/v1/), [Jupyter Notebook](https://jupyter-notebook.readthedocs.io/en/stable/), and [IJulia](https://julialang.github.io/IJulia.jl/stable/) (Julia backend for Jupyter) documentation for further assistance."
   ]
  },
  {
   "cell_type": "markdown",
   "id": "fb1a10bf",
   "metadata": {},
   "source": [
    "### Cleaning Up\n",
    "\n",
    "If you don't plan on using Julia, Jupyter, or the `chime_home` dataset later, you can run the following script to remove all of them. This will leave you with the directory you created earlier, `Project.toml`, and anything else you added, which you can now do as you please with.\n",
    "\n",
    "```bash\n",
    "# uninstall.sh\n",
    "\n",
    "# this script is mostly useful for showing you\n",
    "# what things get installed by install.sh and\n",
    "# how you can remove them. don't run it directly\n",
    "# unless it won't mess up an existing julia or\n",
    "# jupyter installation.\n",
    "\n",
    "# local julia install\n",
    "rm -rf julia-1.6.1/\n",
    "\n",
    "# julia home\n",
    "rm -rf ~/.julia\n",
    "\n",
    "# jupyter home\n",
    "rm -rf ~/.jupyter\n",
    "\n",
    "# data\n",
    "rm -rf chime_home/\n",
    "```"
   ]
  },
  {
   "cell_type": "code",
   "execution_count": 30,
   "id": "97c2f7e8",
   "metadata": {},
   "outputs": [
    {
     "data": {
      "text/plain": [
       "\"/home/ubuntu/csce-5380-project\""
      ]
     },
     "execution_count": 30,
     "metadata": {},
     "output_type": "execute_result"
    }
   ],
   "source": [
    "# navigate (within your notebook session) to whatever\n",
    "# directory you saved Project.toml in. pwd() should output\n",
    "# the full path of the directory you saved Project.toml in.\n",
    "pwd()\n",
    "# then run the following cell to activate the environment \n",
    "# you created  earlier using Project.toml. this is so Julia \n",
    "# starts running in the same virtual environment you installed \n",
    "# the project dependencies in."
   ]
  },
  {
   "cell_type": "code",
   "execution_count": 31,
   "id": "cc8b075b",
   "metadata": {},
   "outputs": [],
   "source": [
    "] activate ."
   ]
  },
  {
   "cell_type": "code",
   "execution_count": 32,
   "id": "06f105b1",
   "metadata": {},
   "outputs": [],
   "source": [
    "using Pkg\n",
    "using WAV\n",
    "using CSV\n",
    "using DelimitedFiles\n",
    "using DataFrames\n",
    "using DataSets\n",
    "using Flux\n",
    "using Plots\n",
    "using StatsPlots"
   ]
  },
  {
   "cell_type": "code",
   "execution_count": 33,
   "id": "1e106f4a",
   "metadata": {},
   "outputs": [
    {
     "data": {
      "text/plain": [
       "\"/home/ubuntu/csce-5380-project/Project.toml\""
      ]
     },
     "execution_count": 33,
     "metadata": {},
     "output_type": "execute_result"
    }
   ],
   "source": [
    "Pkg.project().path # this should output the full path of the Project.toml you created earlier"
   ]
  },
  {
   "cell_type": "code",
   "execution_count": null,
   "id": "d2db989e",
   "metadata": {},
   "outputs": [],
   "source": []
  }
 ],
 "metadata": {
  "kernelspec": {
   "display_name": "Julia 1.6.1",
   "language": "julia",
   "name": "julia-1.6"
  },
  "language_info": {
   "file_extension": ".jl",
   "mimetype": "application/julia",
   "name": "julia",
   "version": "1.6.1"
  }
 },
 "nbformat": 4,
 "nbformat_minor": 5
}
